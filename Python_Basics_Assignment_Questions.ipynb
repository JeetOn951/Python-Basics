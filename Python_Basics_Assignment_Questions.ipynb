{
  "nbformat": 4,
  "nbformat_minor": 0,
  "metadata": {
    "colab": {
      "provenance": []
    },
    "kernelspec": {
      "name": "python3",
      "display_name": "Python 3"
    },
    "language_info": {
      "name": "python"
    }
  },
  "cells": [
    {
      "cell_type": "markdown",
      "source": [
        "# **Theoretical** **Questions** **:**"
      ],
      "metadata": {
        "id": "T9hJr_fUBmUu"
      }
    },
    {
      "cell_type": "markdown",
      "source": [
        "1. What is Python, and why is it popular?\n",
        "-> Python is a programming language that is very easy to read and write. People like it because its code looks almost like plain English, so beginners can understand it quickly. Also, it has lots of ready-made tools and libraries which help you build things faster, from websites to data science projects.\n",
        "\n",
        "2. What is an interpreter in Python?\n",
        "-> An interpreter is a program that reads the Python code line by line and runs it. So, when you write Python code, the interpreter helps your computer understand and execute it step by step.\n",
        "\n",
        "3. What are pre-defined keywords in Python?\n",
        "-> Pre-defined keywords are special words in Python that have a fixed meaning. For example, if, else, while, for, True, False, etc. You can’t change what they do because Python uses them to understand your instructions.\n",
        "\n",
        "4. Can keywords be used as variable names?\n",
        "-> No, you can’t use keywords as variable names. For example, you can’t make a variable named if or while because Python will get confused and think you are trying to write a condition or loop.\n",
        "\n",
        "5. What is mutability in Python?\n",
        "-> Mutability means whether something can be changed after it’s created. If something is mutable, you can change its contents. If it’s immutable, you can’t change it.\n",
        "\n",
        "6. Why are lists mutable, but tuples are immutable?\n",
        "-> Lists are designed so you can add, remove, or change items in them. That’s why they are mutable. But tuples are made to stay the same once you create them. So, you can’t change what’s inside a tuple — it stays fixed.\n",
        "\n",
        "7. What is the difference between “==” and “is” operators in Python?\n",
        "-> '==' checks if the values are the same. For example, if two lists have the same items, == will say they are equal.\n",
        "is checks if they are the same object in memory. So, two different lists with the same items are equal (==), but they are not the same object (is).\n",
        "\n",
        "8. What are logical operators in Python?\n",
        "-> Logical operators are words like and, or, and not. They help you combine conditions. For example, you can check if two things are true at the same time using and, or check if at least one is true using or.\n",
        "\n",
        "9. What is type casting in Python?\n",
        "-> Type casting means changing one data type into another. For example, turning an integer into a string, or a float into an integer.\n",
        "\n",
        "10. What is the difference between implicit and explicit type casting?\n",
        "-> Implicit type casting happens automatically — Python does it by itself. For example, if you add an integer and a float, Python will turn the integer into a float.\n",
        "Explicit type casting is when you do it yourself using functions like int(), float(), or str().\n",
        "\n",
        "11. What is the purpose of conditional statements in Python?\n",
        "-> Conditional statements like if, elif, and else help your program make decisions. They check if something is true and then run some code based on that. It’s like giving your program a brain to choose what to do.\n",
        "\n",
        "12. How does the elif statement work?\n",
        "-> elif means else if. It checks another condition if the first if is false. If that’s also false, it can check more elif conditions. So, it’s useful when you have many choices to check, one after another.\n",
        "\n",
        "13. What is the difference between for and while loops?\n",
        "-> A for loop is used when you know how many times you want to repeat something — like going through items in a list. A while loop repeats as long as a condition is true. You don’t always know how many times it will run.\n",
        "\n",
        "\n",
        "\n"
      ],
      "metadata": {
        "id": "i6tbhew9sEh9"
      }
    },
    {
      "cell_type": "code",
      "source": [
        " # 14. \"Describe a scenario where a while loop is more suitable than a for loop.\n",
        "' Suppose if i am asking a user to enter a password until they get it right. I don’t know how many tries they will need, so i can use a while loop to keep asking until they enter the correct password.'\n",
        "\n",
        "# Example:\n",
        "\n",
        "correct_password = \"Sporsho\"\n",
        "password = \"\"\n",
        "\n",
        "while password != correct_password:\n",
        "  password = input(\"Please enter the password: \")\n",
        "  if password != correct_password:\n",
        "    print(\"Incorrect password. Please try again.\")\n",
        "\n",
        "print(\"Password accepted!\")\n",
        "\n",
        "#' Why a for loop is not suitable here:\n",
        "\n",
        "# A for loop is used when you know the number of iterations you want to perform.\n",
        "# In this scenario, we don't know how many attempts the user will need to enter the correct password.\n",
        "# We want to keep asking until the condition (password being correct) is met, which is exactly what a while loop does.\n",
        "\n",
        "''' Example of why a for loop wouldn't work effectively here:\n",
        " If we tried to use a for loop, we would have to guess the maximum number of attempts.\n",
        " For example, if we set the for loop to run 5 times, the program would stop after 5 incorrect attempts,\n",
        " even if the user could have entered the correct password on the 6th attempt.\n",
        "\n",
        " for attempt in range(5): # We are guessing a maximum of 5 attempts\n",
        "   password = input(\"Please enter the password: \")\n",
        "   if password == correct_password:\n",
        "     print(\"Password accepted!\")\n",
        "     break # Exit the loop if correct\n",
        "   else:\n",
        "     print(\"Incorrect password. Please try again.\")\n",
        "\n",
        " if password != correct_password:\n",
        "  print(\"Maximum attempts reached. Access denied.\")\n",
        "\n",
        " This for loop example requires guessing the number of attempts and handling the case\n",
        " where the correct password isn't entered within the set number of attempts.\n",
        " The while loop is much simpler and more intuitive for this scenario as it continues indefinitely\n",
        " until the correct password is provided.'''"
      ],
      "metadata": {
        "colab": {
          "base_uri": "https://localhost:8080/"
        },
        "id": "u9iCrxGD-ki1",
        "outputId": "1e12e4b6-0575-4b91-83fb-44d99772c9bb"
      },
      "execution_count": 78,
      "outputs": [
        {
          "output_type": "stream",
          "name": "stdout",
          "text": [
            "Please enter the password: Sayan\n",
            "Incorrect password. Please try again.\n",
            "Please enter the password: Sporsho\n",
            "Password accepted!\n"
          ]
        }
      ]
    },
    {
      "cell_type": "markdown",
      "source": [
        "# **Practical Questions :**\n",
        "\n",
        "\n",
        "\n",
        "\n",
        "\n",
        "\n",
        "\n",
        "\n",
        "\n"
      ],
      "metadata": {
        "id": "EaSIFNoyBTok"
      }
    },
    {
      "cell_type": "code",
      "source": [
        "# 1. Write a Python program to print \"Hello, World!\"\n",
        "print(\"Hello, World!\")"
      ],
      "metadata": {
        "colab": {
          "base_uri": "https://localhost:8080/"
        },
        "id": "C4m8gBIjubq9",
        "outputId": "7c2e0924-8a2d-4633-d111-4e00bc2805b6"
      },
      "execution_count": null,
      "outputs": [
        {
          "output_type": "stream",
          "name": "stdout",
          "text": [
            "Hello, World!\n"
          ]
        }
      ]
    },
    {
      "cell_type": "code",
      "source": [
        "# 2. Write a Python program that displays your name and age.\n",
        "\n",
        "name=\"Sayan Saha\"\n",
        "age= 23\n",
        "print(\"Name:\",name)\n",
        "print(\"Age: \", age)\n"
      ],
      "metadata": {
        "colab": {
          "base_uri": "https://localhost:8080/"
        },
        "id": "q1JmaKBUyzw0",
        "outputId": "b50f4904-8f96-44e8-cbff-65f4454701dc"
      },
      "execution_count": null,
      "outputs": [
        {
          "output_type": "stream",
          "name": "stdout",
          "text": [
            "Name: Sayan Saha\n",
            "Age:  23\n"
          ]
        }
      ]
    },
    {
      "cell_type": "code",
      "source": [
        "# 3. Write code to print all the pre-defined keywords in Python using the keyword library\n",
        "\n",
        "import keyword\n",
        "\n",
        "print(\"Python Pre-defined Keywords:\")\n",
        "for bal in keyword.kwlist:\n",
        "    print(bal)"
      ],
      "metadata": {
        "colab": {
          "base_uri": "https://localhost:8080/"
        },
        "id": "a3mCmySLyue9",
        "outputId": "77d0b632-2bf8-43e1-8acb-74a131e6bc0b"
      },
      "execution_count": null,
      "outputs": [
        {
          "output_type": "stream",
          "name": "stdout",
          "text": [
            "Python Pre-defined Keywords:\n",
            "False\n",
            "None\n",
            "True\n",
            "and\n",
            "as\n",
            "assert\n",
            "async\n",
            "await\n",
            "break\n",
            "class\n",
            "continue\n",
            "def\n",
            "del\n",
            "elif\n",
            "else\n",
            "except\n",
            "finally\n",
            "for\n",
            "from\n",
            "global\n",
            "if\n",
            "import\n",
            "in\n",
            "is\n",
            "lambda\n",
            "nonlocal\n",
            "not\n",
            "or\n",
            "pass\n",
            "raise\n",
            "return\n",
            "try\n",
            "while\n",
            "with\n",
            "yield\n"
          ]
        }
      ]
    },
    {
      "cell_type": "code",
      "source": [
        "# prompt: 4. Write a program that checks if a given word is a Python keyword.\n",
        "\n",
        "def check_keyword(word):\n",
        "    \"\"\"Checks if a given word is a Python keyword.\"\"\"\n",
        "    if word in keyword.kwlist:\n",
        "        print(f\"'{word}' is a Python keyword.\")\n",
        "    else:\n",
        "        print(f\"'{word}' is not a Python keyword.\")\n",
        "\n",
        "# Example usage:\n",
        "word_to_check = \"for\"\n",
        "check_keyword(word_to_check)\n",
        "\n",
        "word_to_check = \"my_variable\"\n",
        "check_keyword(word_to_check)\n"
      ],
      "metadata": {
        "colab": {
          "base_uri": "https://localhost:8080/"
        },
        "id": "Fbk8LFLM0N8x",
        "outputId": "4b2e8273-5eb1-46de-b52e-348ecbd190f0"
      },
      "execution_count": null,
      "outputs": [
        {
          "output_type": "stream",
          "name": "stdout",
          "text": [
            "'for' is a Python keyword.\n",
            "'my_variable' is not a Python keyword.\n"
          ]
        }
      ]
    },
    {
      "cell_type": "code",
      "source": [
        "# 5. Create a list and tuple in Python, and demonstrate how attempting to change an element works differently for each.\n",
        "\n",
        "# Create a list\n",
        "my_list = [1, 2, 3, 4]\n",
        "print(\"Original List:\", my_list)\n",
        "\n",
        "# Attempt to change an element in the list (mutable)\n",
        "my_list[1] = 10\n",
        "print(\"List after changing element:\", my_list)\n",
        "\n",
        "# Create a tuple\n",
        "my_tuple = (1, 2, 3, 4)\n",
        "print(\"\\nOriginal Tuple:\", my_tuple)\n",
        "\n",
        "# Attempt to change an element in the tuple (immutable)\n",
        "try:\n",
        "  my_tuple[1] = 10\n",
        "except TypeError as e:\n",
        "  print(\"Attempting to change an element in the tuple:\", e)\n",
        "\n",
        "print(\"Tuple remains unchanged:\", my_tuple)"
      ],
      "metadata": {
        "colab": {
          "base_uri": "https://localhost:8080/"
        },
        "id": "IrWCAzJp0j_7",
        "outputId": "75c5594f-7c36-4429-ad12-ebf83ee9b652"
      },
      "execution_count": null,
      "outputs": [
        {
          "output_type": "stream",
          "name": "stdout",
          "text": [
            "Original List: [1, 2, 3, 4]\n",
            "List after changing element: [1, 10, 3, 4]\n",
            "\n",
            "Original Tuple: (1, 2, 3, 4)\n",
            "Attempting to change an element in the tuple: 'tuple' object does not support item assignment\n",
            "Tuple remains unchanged: (1, 2, 3, 4)\n"
          ]
        }
      ]
    },
    {
      "cell_type": "code",
      "source": [
        "# 6. Write a function to demonstrate the behavior of mutable and immutable arguments.\n",
        "def demo_arguments(immutable_arg, mutable_arg):\n",
        "  \"\"\"\n",
        "  Demonstrates how mutable and immutable arguments behave when passed to a function.\n",
        "\n",
        "  Args:\n",
        "    immutable_arg: An immutable argument (like int, string, tuple).\n",
        "    mutable_arg: A mutable argument (like list, dictionary, set).\n",
        "  \"\"\"\n",
        "  print(\"\\n--- Inside the function ---\")\n",
        "  print(\"Initial immutable_arg:\", immutable_arg)\n",
        "  print(\"Initial mutable_arg:\", mutable_arg)\n",
        "\n",
        "  # Attempt to modify the immutable argument\n",
        "  immutable_arg = immutable_arg + 1\n",
        "  print(\"Modified immutable_arg inside function:\", immutable_arg)\n",
        "\n",
        "  # Modify the mutable argument in place\n",
        "  mutable_arg.append(99)\n",
        "  print(\"Modified mutable_arg inside function:\", mutable_arg)\n",
        "  print(\"--- End of function ---\")\n",
        "\n",
        "# Demonstrate with immutable and mutable types\n",
        "immutable_value = 10\n",
        "mutable_list = [1, 2, 3]\n",
        "\n",
        "print(\"Before function call:\")\n",
        "print(\"immutable_value:\", immutable_value)\n",
        "print(\"mutable_list:\", mutable_list)\n",
        "\n",
        "demo_arguments(immutable_value, mutable_list)\n",
        "\n",
        "print(\"\\nAfter function call:\")\n",
        "print(\"immutable_value:\", immutable_value) # The original immutable value is unchanged\n",
        "print(\"mutable_list:\", mutable_list)     # The original mutable list is changed\n",
        "\n"
      ],
      "metadata": {
        "colab": {
          "base_uri": "https://localhost:8080/"
        },
        "id": "FUiWPH_k0wZD",
        "outputId": "573d6c2f-27a1-475a-c085-ab458c4d3a9f"
      },
      "execution_count": null,
      "outputs": [
        {
          "output_type": "stream",
          "name": "stdout",
          "text": [
            "Before function call:\n",
            "immutable_value: 10\n",
            "mutable_list: [1, 2, 3]\n",
            "\n",
            "--- Inside the function ---\n",
            "Initial immutable_arg: 10\n",
            "Initial mutable_arg: [1, 2, 3]\n",
            "Modified immutable_arg inside function: 11\n",
            "Modified mutable_arg inside function: [1, 2, 3, 99]\n",
            "--- End of function ---\n",
            "\n",
            "After function call:\n",
            "immutable_value: 10\n",
            "mutable_list: [1, 2, 3, 99]\n"
          ]
        }
      ]
    },
    {
      "cell_type": "code",
      "source": [
        "# 7. Write a program that performs basic arithmetic operations on two user-input numbers.\n",
        "\n",
        "# Get input from the user\n",
        "num1_str = input(\"Enter the first number: \")\n",
        "num2_str = input(\"Enter the second number: \")\n",
        "\n",
        "# Convert input strings to numbers (float to handle decimals)\n",
        "try:\n",
        "    num1 = float(num1_str)\n",
        "    num2 = float(num2_str)\n",
        "\n",
        "    # Perform basic arithmetic operations\n",
        "    addition = num1 + num2\n",
        "    subtract = num1 - num2\n",
        "    multiply = num1 * num2\n",
        "\n",
        "    # Handle division by zero\n",
        "    if num2 != 0:\n",
        "        divide = num1 / num2\n",
        "    else:\n",
        "        divide = \"Cannot divide by zero\"\n",
        "\n",
        "    # Print the results\n",
        "    print(f\"\\nResults:\")\n",
        "    print(f\"{num1} + {num2} = {addition}\")\n",
        "    print(f\"{num1} - {num2} = {subtract}\")\n",
        "    print(f\"{num1} * {num2} = {multiply}\")\n",
        "    print(f\"{num1} / {num2} = {divide}\")\n",
        "\n",
        "except ValueError:\n",
        "    print(\"Invalid input. Please enter numbers only.\")"
      ],
      "metadata": {
        "colab": {
          "base_uri": "https://localhost:8080/"
        },
        "id": "lZ0feNEj07sb",
        "outputId": "624b260a-b051-4f6a-8616-a1e0ff2e1fcb"
      },
      "execution_count": null,
      "outputs": [
        {
          "output_type": "stream",
          "name": "stdout",
          "text": [
            "Enter the first number: 234'\n",
            "Enter the second number: 542\n",
            "Invalid input. Please enter numbers only.\n"
          ]
        }
      ]
    },
    {
      "cell_type": "code",
      "source": [
        "# 8. Write a program to demonstrate the use of logical operators.\n",
        "\n",
        "# Define some variables\n",
        "a = 10\n",
        "b = -3\n",
        "c = 5\n",
        "\n",
        "# Using 'and' operator\n",
        "# Condition: Is 'a' greater than 'b' AND 'a' less than 'c'?\n",
        "print(f\"Is a > b and a < c? : {a > b and a < c}\")\n",
        "\n",
        "# Condition: Is 'a' greater than 'c' AND 'a' greater than 'b'?\n",
        "print(f\"Is a > c and a > b? : {a > c and a > b}\")\n",
        "# Using 'or' operator\n",
        "# Condition: Is 'a' greater than 'c' OR 'a' greater than 'b'?\n",
        "print(f\"Is a > c or a > b?  : {a > c or a > b}\")\n",
        "\n",
        "# Condition: Is 'b' greater than 'a' OR 'b' greater than 'c'?\n",
        "print(f\"Is b > a or b > c?  : {b > a or b > c}\")\n",
        "\n",
        "# Using 'not' operator\n",
        "# Condition: Is 'a' not equal to 'b'?\n",
        "print(f\"Is a != b?          : {not (a == b)}\")\n",
        "\n",
        "# Condition: Is 'a' not greater than 'c'?\n",
        "print(f\"Is not (a > c)?     : {not (a > c)}\")"
      ],
      "metadata": {
        "colab": {
          "base_uri": "https://localhost:8080/"
        },
        "id": "_2MRkcWr1yt8",
        "outputId": "334391de-3466-42bd-eb3d-b705642972b2"
      },
      "execution_count": null,
      "outputs": [
        {
          "output_type": "stream",
          "name": "stdout",
          "text": [
            "Is a > b and a < c? : False\n",
            "Is a > c and a > b? : True\n",
            "Is a > c or a > b?  : True\n",
            "Is b > a or b > c?  : False\n",
            "Is a != b?          : True\n",
            "Is not (a > c)?     : False\n"
          ]
        }
      ]
    },
    {
      "cell_type": "code",
      "source": [
        "# 9. Write a Python program to convert user input from string to integer, float, and boolean types.\n",
        "\n",
        "user_input_str = input(\"Enter some value: \")\n",
        "\n",
        "# Convert to integer\n",
        "try:\n",
        "    user_input_int = int(user_input_str)\n",
        "    print(f\"Input as Integer: {user_input_int} (Type: {type(user_input_int)})\")\n",
        "except ValueError:\n",
        "    print(\"Could not convert input to integer.\")\n",
        "\n",
        "# Convert to float\n",
        "try:\n",
        "    user_input_float = float(user_input_str)\n",
        "    print(f\"Input as Float: {user_input_float} (Type: {type(user_input_float)})\")\n",
        "except ValueError:\n",
        "    print(\"Could not convert input to float.\")\n",
        "\n",
        "# Convert to boolean (common approach: 'True'/'False' strings)\n",
        "user_input_bool = user_input_str.lower() == 'true'\n",
        "print(f\"Input as Boolean (assuming 'True' or 'False'): {user_input_bool} (Type: {type(user_input_bool)})\")"
      ],
      "metadata": {
        "colab": {
          "base_uri": "https://localhost:8080/"
        },
        "id": "WqTdClhj3auj",
        "outputId": "81d934d4-3f74-453a-9a5b-de4436bc6e64"
      },
      "execution_count": null,
      "outputs": [
        {
          "output_type": "stream",
          "name": "stdout",
          "text": [
            "Enter some value: 4\n",
            "Input as Integer: 4 (Type: <class 'int'>)\n",
            "Input as Float: 4.0 (Type: <class 'float'>)\n",
            "Input as Boolean (assuming 'True' or 'False'): False (Type: <class 'bool'>)\n"
          ]
        }
      ]
    },
    {
      "cell_type": "code",
      "source": [
        "# 10. Write code to demonstrate type casting with list elements.\n",
        "\n",
        "my_mixed_list = [\"123\", 45.67, \"True\", 88, \"9.9\"]\n",
        "print(\"Original list:\", my_mixed_list)\n",
        "\n",
        "# Example of type casting list elements\n",
        "\n",
        "# Casting string elements to integers\n",
        "casted_int_list = []\n",
        "for item in my_mixed_list:\n",
        "    if isinstance(item, str) and item.isdigit(): # Check if it's a string of digits\n",
        "        casted_int_list.append(int(item))\n",
        "    else:\n",
        "        casted_int_list.append(item) # Keep other types as they are\n",
        "print(\"List after casting strings to integers (where possible):\", casted_int_list)\n",
        "\n",
        "# Casting elements to strings\n",
        "casted_str_list = [str(item) for item in my_mixed_list]\n",
        "print(\"List after casting all elements to strings:\", casted_str_list)\n",
        "\n",
        "# Casting string elements to floats\n",
        "casted_float_list = []\n",
        "for item in my_mixed_list:\n",
        "    try:\n",
        "        casted_float_list.append(float(item))\n",
        "    except ValueError:\n",
        "        casted_float_list.append(item) # Keep elements that cannot be cast to float\n",
        "print(\"List after casting elements to floats (where possible):\", casted_float_list)"
      ],
      "metadata": {
        "colab": {
          "base_uri": "https://localhost:8080/"
        },
        "id": "hQJ_K-rR4vpm",
        "outputId": "8eabdcfe-0154-40dc-c9f4-de4a4297c962"
      },
      "execution_count": null,
      "outputs": [
        {
          "output_type": "stream",
          "name": "stdout",
          "text": [
            "Original list: ['123', 45.67, 'True', 88, '9.9']\n",
            "List after casting strings to integers (where possible): [123, 45.67, 'True', 88, '9.9']\n",
            "List after casting all elements to strings: ['123', '45.67', 'True', '88', '9.9']\n",
            "List after casting elements to floats (where possible): [123.0, 45.67, 'True', 88.0, 9.9]\n"
          ]
        }
      ]
    },
    {
      "cell_type": "code",
      "source": [
        "# 11. Write a program that checks if a number is positive, negative, or zero.\n",
        "\n",
        "# Get input from the user\n",
        "number_str = input(\"Enter a number: \")\n",
        "\n",
        "# Convert input string to a number (float to handle decimals)\n",
        "try:\n",
        "    number = float(number_str)\n",
        "\n",
        "    # Check if the number is positive, negative, or zero\n",
        "    if number > 0:\n",
        "        print(\"The number is positive.\")\n",
        "    elif number < 0:\n",
        "        print(\"The number is negative.\")\n",
        "    else:\n",
        "        print(\"The number is zero.\")\n",
        "\n",
        "except ValueError:\n",
        "    print(\"Invalid input. Please enter a valid number.\")"
      ],
      "metadata": {
        "colab": {
          "base_uri": "https://localhost:8080/"
        },
        "id": "10TQvvDY5Mag",
        "outputId": "748522e8-93f4-404b-cb6b-875cab36ae4f"
      },
      "execution_count": null,
      "outputs": [
        {
          "output_type": "stream",
          "name": "stdout",
          "text": [
            "Enter a number: 987\n",
            "The number is positive.\n"
          ]
        }
      ]
    },
    {
      "cell_type": "code",
      "source": [
        "# 12. Write a for loop to print numbers from 1 to 10.\n",
        "\n",
        "for i in range(1, 11):\n",
        " print(i)"
      ],
      "metadata": {
        "colab": {
          "base_uri": "https://localhost:8080/"
        },
        "id": "-ODNWm8c5dbQ",
        "outputId": "8ca1d7eb-bff4-402a-eca6-c079dcb07388"
      },
      "execution_count": null,
      "outputs": [
        {
          "output_type": "stream",
          "name": "stdout",
          "text": [
            "1\n",
            "2\n",
            "3\n",
            "4\n",
            "5\n",
            "6\n",
            "7\n",
            "8\n",
            "9\n",
            "10\n"
          ]
        }
      ]
    },
    {
      "cell_type": "code",
      "source": [
        "# 13. Write a Python program to find the sum of all even numbers between 1 and 50.\n",
        "\n",
        "sum_of_evens = 0\n",
        "\n",
        "# Iterate through numbers from 1 to 50\n",
        "for number in range(1, 51):\n",
        "  # Check if the number is even\n",
        "  if number % 2 == 0:\n",
        "    sum_of_evens += number\n",
        "\n",
        "print(f\"The sum of all even numbers between 1 and 50 is: {sum_of_evens}\")\n",
        "\n"
      ],
      "metadata": {
        "colab": {
          "base_uri": "https://localhost:8080/"
        },
        "id": "OaduE6xg5xry",
        "outputId": "bdfecef4-7b33-4901-dd4a-d19e55f33fd1"
      },
      "execution_count": null,
      "outputs": [
        {
          "output_type": "stream",
          "name": "stdout",
          "text": [
            "The sum of all even numbers between 1 and 50 is: 650\n"
          ]
        }
      ]
    },
    {
      "cell_type": "code",
      "source": [
        "# 14. Write a program to reverse a string using a while loop.\n",
        "\n",
        "def reverse_string_while(input_string):\n",
        "  \"\"\"Reverses a string using a while loop.\"\"\"\n",
        "  reversed_string = \"\"\n",
        "  index = len(input_string) - 1\n",
        "  while index >= 0:\n",
        "    reversed_string += input_string[index]\n",
        "    index -= 1\n",
        "  return reversed_string\n",
        "\n",
        "# Get input from the user\n",
        "user_string = input(\"Enter a string to reverse: \")\n",
        "\n",
        "# Reverse the string using the function\n",
        "reversed_result = reverse_string_while(user_string)\n",
        "\n",
        "# Print the reversed string\n",
        "print(f\"The reversed string is: {reversed_result}\")\n"
      ],
      "metadata": {
        "colab": {
          "base_uri": "https://localhost:8080/"
        },
        "id": "ktO-jG4w60K3",
        "outputId": "ee841d73-8414-48a1-cb53-1e49c8ba2b9d"
      },
      "execution_count": null,
      "outputs": [
        {
          "output_type": "stream",
          "name": "stdout",
          "text": [
            "Enter a string to reverse: Barsha\n",
            "The reversed string is: ahsraB\n"
          ]
        }
      ]
    },
    {
      "cell_type": "code",
      "source": [
        "# 15. Write a Python program to calculate the factorial of a number provided by the user using a while loop.\n",
        "\n",
        "def factorial_while(n):\n",
        "  \"\"\"\n",
        "  Calculates the factorial of a non-negative integer using a while loop.\n",
        "\n",
        "  Args:\n",
        "    n: The non-negative integer for which to calculate the factorial.\n",
        "\n",
        "  Returns:\n",
        "    The factorial of n.\n",
        "    Returns -1 for negative input.\n",
        "  \"\"\"\n",
        "  if n < 0:\n",
        "    print(\"Factorial is not defined for negative numbers.\")\n",
        "    return -1\n",
        "  elif n == 0:\n",
        "    return 1\n",
        "  else:\n",
        "    factorial = 1\n",
        "    i = 1\n",
        "    while i <= n:\n",
        "      factorial *= i\n",
        "      i += 1\n",
        "    return factorial\n",
        "\n",
        "# Get input from the user\n",
        "num_str = input(\"Enter a non-negative integer to calculate its factorial: \")\n",
        "\n",
        "try:\n",
        "  num = int(num_str)\n",
        "  result = factorial_while(num)\n",
        "\n",
        "  if result != -1:\n",
        "    print(f\"The factorial of {num} is {result}\")\n",
        "\n",
        "except ValueError:\n",
        "  print(\"Invalid input. Please enter a non-negative integer.\")"
      ],
      "metadata": {
        "colab": {
          "base_uri": "https://localhost:8080/"
        },
        "id": "W15g9WhM7zmx",
        "outputId": "5d01c5cb-e387-4319-9087-c54e799a2801"
      },
      "execution_count": null,
      "outputs": [
        {
          "output_type": "stream",
          "name": "stdout",
          "text": [
            "Enter a non-negative integer to calculate its factorial: 8\n",
            "The factorial of 8 is 40320\n"
          ]
        }
      ]
    }
  ]
}